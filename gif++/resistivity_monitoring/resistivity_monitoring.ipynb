%matplotlib inline
import pandas as pd
import matplotlib.pyplot as plt
import matplotlib.dates as mdates
import matplotlib as mpl
import numpy as np

import mplhep as hep
plt.style.use(hep.style.CMS)

def resistivity_time(file, gap):
    
    # Name of the colum for gaps
    gap_column = 'Average_resistivity_' + gap + '(ohm*m)'
    error_comumn = 'Error_resistivity_' + gap + '(ohm*m)' 
    # Read the csv file as a panda dataframe
    df = pd.read_csv(file, parse_dates=['Date'])
    # Takes the colum date
    dates = df['Date']
    # Takes the resistivity for  the gap
    resist_gap = df[gap_column]
    resist_error_gap = df[error_comumn]

    #resist_bottom.plot(ax=ax)

    # Figure and axis
    fig, ax = plt.subplots()
    # Attributes xaxis and yaxis
    plt.errorbar(dates, resist_gap, yerr=resist_error_gap, marker='s', linestyle='')#, label=leg)
    #ax.plot(dates, resist_gap, marker='s', linestyle=None, linewidth=0)

    # For date
    ax.set_xticks(dates)
    #ax.xaxis.set_major_formatter(mdates.DateFormatter("%Y-%m-%d"))
    #ax.xaxis.set_minor_formatter(mdates.DateFormatter("%Y-%m-%d"))
    _=plt.xticks(rotation=90)    

    # Xlabel
    ax.xaxis.set_label_coords(0.5, -0.055)
    ax.set_xlabel(r'Date', fontsize = 22)

    # Ylabel
    ax.yaxis.set_label_coords(-0.09, 0.86)
    ax.set_ylabel(r'$\rho [\Omega\cdot m]$', fontsize = 22)
    #plt.legend('labels')

    # CMS format
    hfont = {'fontname':'Helvetica'}    
    plt.text(0.17, 0.80, "CMS", fontdict=hfont,  fontweight='bold', transform=plt.gcf().transFigure) # Value for on top: 0.20, 0.89
    plt.text(0.27, 0.80, "Preliminary", fontdict=hfont, style='italic',fontsize = 22, transform=plt.gcf().transFigure) # Value for on top: 0.30, 0.89
    
    # legend for gap name
    plt.text(0.17, 0.70, 'GAP: ' + gap, fontsize = 18, transform=plt.gcf().transFigure) # Value for on top: 0.30, 0.89


    ### If ones would like to move the scientific notation
    #t = ax.yaxis.get_offset_text()
    #t.set_x(0.008)

    plt.grid()

##  File with the data
file = 'resistivity_re3-1-ghent-186.csv'
bot_gap = 'bot'
top_gap = 'top'

resistivity_time(file, bot_gap)
resistivity_time(file, top_gap)
