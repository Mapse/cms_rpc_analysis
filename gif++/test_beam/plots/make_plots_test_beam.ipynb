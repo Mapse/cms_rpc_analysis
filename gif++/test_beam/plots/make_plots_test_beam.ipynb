{
 "cells": [
  {
   "cell_type": "code",
   "execution_count": null,
   "metadata": {},
   "outputs": [],
   "source": [
    "import mplhep as hep\n",
    "import matplotlib.pyplot as plt\n",
    "\n",
    "import clr_hveff_legend as chl\n",
    "import plot_current_hv_eff as pche\n",
    "import plot_efficiency_curve as pec\n",
    "import plot_muon_cluster_size_hv_eff as pmcshe\n",
    "#import plot_cluster_charge_hv_eff as pcche (Ongoing work)\n",
    "import plot_efficiency_gamma_rate_wp as pegrw\n",
    "import plot_current_density_cluster_rate_wp as pcdcrw\n",
    "import plot_working_point_gamma_rate_wp as pwpgr\n",
    "import plot_efficiency_current_hv as pechv\n",
    "import get_info as wpi\n",
    "\n",
    "# Uses CMS style\n",
    "plt.style.use(hep.style.CMS)"
   ]
  },
  {
   "cell_type": "markdown",
   "metadata": {},
   "source": [
    "# Parameters"
   ]
  },
  {
   "cell_type": "code",
   "execution_count": null,
   "metadata": {},
   "outputs": [],
   "source": [
    "# Scan list with csv files\n",
    "file_std = [\"data_RE1_1_B_004795.csv\", \"data_RE1_1_B_004806.csv\", \"data_RE1_1_B_004800.csv\", \n",
    "        \"data_RE1_1_B_004813.csv\", \"data_RE1_1_B_004801.csv\",]\n",
    "\n",
    "file_eco2 = [\"data_RE1_1_B_004680.csv\", \"data_RE1_1_B_004948.csv\", \"data_RE1_1_B_004979.csv\", \n",
    "        \"data_RE1_1_B_005014.csv\", \"data_RE1_1_B_004992.csv\",]\n",
    "\n",
    "file_eco3 = [\"data_RE1_1_B_004848.csv\", \"data_RE1_1_B_004826.csv\", \"data_RE1_1_B_004829.csv\", \n",
    "        \"data_RE1_1_B_004920.csv\", \"data_RE1_1_B_004863.csv\", ]\n",
    "\n",
    "chamber = 'RE1_1_001'\n",
    "# gaps list with respective areas\n",
    "gaps = {'BOT': 3150, 'TW': 1840,  'TN': 990}\n",
    "\n",
    "# Path to csv files with data per jigh voltage point\n",
    "path_all_std = 'data_all/std_gas/'\n",
    "path_all_eco2 = 'data_all/ecomix2/'\n",
    "path_all_eco3 = 'data_all/ecomix3/'\n",
    "\n",
    "# Path to csv files with data at working point\n",
    "path_wp_std = 'data_wp/std_gas/'\n",
    "path_wp_eco2 = 'data_wp/ecomix2/'\n",
    "path_wp_eco3 = 'data_wp/ecomix3/'\n",
    "\n",
    "#file_wp_300uv = [i.replace('.csv', '_WP.csv') for i in file_300uv]\n",
    "\n",
    "# Takes the legend from clr_hveff_legend module.\n",
    "legend_std = chl.compute_cluster_rate_WP(path_wp_std, file_std)\n",
    "legend_eco2 = chl.compute_cluster_rate_WP(path_wp_eco2, file_eco2)\n",
    "legend_eco3 = chl.compute_cluster_rate_WP(path_wp_eco3, file_eco3)\n",
    "\n",
    "# Gas composition\n",
    "gas_std = 'Std. Gas: $C_2H_2F_4$(95.2%), $iC_4H_{10}$(4.5 %), $SF_6$(0.3%)'\n",
    "gas_eco2 = 'Ecomix-2: $CO_2$(60%), $HFO$(35%), $iC_4H_{10}$(4%), $SF_6$(1%)'\n",
    "gas_eco3 = 'Ecomix-3: $CO_2$(69%), $HFO$(25%), $iC_4H_{10}$(5%), $SF_6$(1%)'"
   ]
  },
  {
   "cell_type": "code",
   "execution_count": null,
   "metadata": {},
   "outputs": [],
   "source": [
    "path_all = 'data_all/'\n",
    "path_wp = 'data_wp/'\n",
    "file_off =[\"std_gas/data_RE1_1_B_004795.csv\", \"ecomix2/data_RE1_1_B_004680.csv\", \"ecomix3/data_RE1_1_B_004848.csv\"]\n",
    "file_100 = [\"std_gas/data_RE1_1_B_004806.csv\", \"ecomix2/data_RE1_1_B_004948.csv\", \"ecomix3/data_RE1_1_B_004826.csv\"]\n",
    "file_22 = [\"std_gas/data_RE1_1_B_004800.csv\", \"ecomix2/data_RE1_1_B_004979.csv\", \"ecomix3/data_RE1_1_B_004829.csv\"]\n",
    "file_10 = [\"std_gas/data_RE1_1_B_004813.csv\", \"ecomix2/data_RE1_1_B_005014.csv\", \"ecomix3/data_RE1_1_B_004920.csv\"]\n",
    "file_6 = [\"std_gas/data_RE1_1_B_004801.csv\", \"ecomix2/data_RE1_1_B_004992.csv\", \"ecomix3/data_RE1_1_B_004863.csv\"]\n",
    "legend = ['Std. Gas', 'Ecomix2', 'Ecomix3'] \n",
    "plotsPNG = 'plots_png/'\n"
   ]
  },
  {
   "cell_type": "code",
   "execution_count": null,
   "metadata": {},
   "outputs": [],
   "source": [
    "wp2table = wpi.get_WPinfo(path_wp, file_off, legend)\n",
    "#print(wp2table)"
   ]
  },
  {
   "cell_type": "code",
   "execution_count": null,
   "metadata": {},
   "outputs": [],
   "source": [
    "wp2table = wpi.get_WPinfo(path_wp, file_22, legend)\n"
   ]
  },
  {
   "cell_type": "code",
   "execution_count": null,
   "metadata": {},
   "outputs": [],
   "source": [
    "wp2table = wpi.get_WPinfo(path_wp, file_6, legend)\n"
   ]
  },
  {
   "cell_type": "code",
   "execution_count": null,
   "metadata": {},
   "outputs": [],
   "source": []
  },
  {
   "cell_type": "code",
   "execution_count": null,
   "metadata": {},
   "outputs": [],
   "source": [
    "data2table = wpi.get_data(path_all, file_off, legend)\n",
    "#print(data2table)"
   ]
  },
  {
   "cell_type": "code",
   "execution_count": null,
   "metadata": {},
   "outputs": [],
   "source": [
    "src = 'off'\n",
    "ax = pechv.plot_eff_current_hv(path_all, file_off, legend, chamber, gaps, plot='ecogas', source=src, typ=None, fit=True, p0=[0.96,0.7,10])\n",
    "plt.savefig(plotsPNG+'efficiency_current_hv_'+src+'.png')"
   ]
  },
  {
   "cell_type": "code",
   "execution_count": null,
   "metadata": {},
   "outputs": [],
   "source": [
    "src = '100'\n",
    "#ax = pechv.plot_eff_current_hv(path_all, file_100, legend, chamber, gaps, plot='ecogas', source=src, typ=None, fit=True, p0=[0.96,0.7,10])\n",
    "#plt.savefig(plotsPNG+'efficiency_current_hv_'+src+'.png')"
   ]
  },
  {
   "cell_type": "code",
   "execution_count": null,
   "metadata": {},
   "outputs": [],
   "source": [
    "src = '22'\n",
    "ax = pechv.plot_eff_current_hv(path_all, file_22, legend, chamber, gaps, plot='ecogas', source=src, typ=None, fit=True, p0=[0.96,0.7,10])\n",
    "plt.savefig(plotsPNG+'efficiency_current_hv_'+src+'.png')"
   ]
  },
  {
   "cell_type": "code",
   "execution_count": null,
   "metadata": {},
   "outputs": [],
   "source": [
    "src = '10'\n",
    "#ax = pechv.plot_eff_current_hv(path_all, file_10, legend, chamber, gaps, plot='ecogas', source=src, typ=None, fit=True, p0=[0.96,0.7,10])\n",
    "#plt.savefig(plotsPNG+'efficiency_current_hv_'+src+'.png')"
   ]
  },
  {
   "cell_type": "code",
   "execution_count": null,
   "metadata": {},
   "outputs": [],
   "source": [
    "src = '6.9'\n",
    "ax = pechv.plot_eff_current_hv(path_all, file_6, legend, chamber, gaps, plot='ecogas', source=src, typ=None, fit=True, p0=[0.96,0.7,10])\n",
    "plt.savefig(plotsPNG+'efficiency_current_hv_'+src+'.png')"
   ]
  },
  {
   "cell_type": "markdown",
   "metadata": {
    "tags": []
   },
   "source": [
    "## Current Density x HVeff: Std gas"
   ]
  },
  {
   "cell_type": "code",
   "execution_count": null,
   "metadata": {},
   "outputs": [],
   "source": [
    "# Calls the module pche to plot density current vs hv effective\n",
    "#ax = pche.plot_current_hv_eff(path_all_std, file_std, legend_std, chamber, gaps, plot='ecogas')\n",
    "#plt.savefig(plotsPNG+'density_current_hv_eff_std.png')"
   ]
  },
  {
   "cell_type": "markdown",
   "metadata": {},
   "source": [
    "## Current Density x HVeff: Ecomix-2"
   ]
  },
  {
   "cell_type": "code",
   "execution_count": null,
   "metadata": {},
   "outputs": [],
   "source": [
    "# Calls the module pche to plot density current vs hv effective\n",
    "#ax = pche.plot_current_hv_eff(path_all_eco2, file_eco2, legend_eco2, chamber, gaps, plot='ecogas')\n",
    "#plt.savefig(plotsPNG+'density_current_hv_eff_eco2.png')"
   ]
  },
  {
   "cell_type": "markdown",
   "metadata": {},
   "source": [
    "## Current Density x HVeff: Ecomix-3"
   ]
  },
  {
   "cell_type": "code",
   "execution_count": null,
   "metadata": {},
   "outputs": [],
   "source": [
    "# Calls the module pche to plot density current vs hv effective\n",
    "#ax = pche.plot_current_hv_eff(path_all_eco3, file_eco3, legend_eco3, chamber, gaps, plot='ecogas')\n",
    "#plt.savefig(plotsPNG+'density_current_hv_eff_eco3.png')"
   ]
  },
  {
   "cell_type": "markdown",
   "metadata": {},
   "source": [
    "## Efficiency curve: Standard gas for RE1_1 "
   ]
  },
  {
   "cell_type": "code",
   "execution_count": null,
   "metadata": {},
   "outputs": [],
   "source": [
    "ax = pec.plot_eff(path_all_std, file_std, legend_std, chamber, gaps, plot='ecogas', typ=None, fit=True, p0=[96.6, 0.007, 12.0])\n",
    "#ax.set_xlim(None, 12)\n",
    "#plt.savefig(plotsPNG+'efficiency_hv_eff_std.png')\n",
    "\n",
    "#### If the fit does not converge you can call the function with another values for the estimate:\n",
    "# p0 = [97.2, 0.004, 11.0]\n",
    "# ax = pec.plot_eff(path_all_std, file_std, legend_std, gas=gas_std, fit=True, p0=p0)"
   ]
  },
  {
   "cell_type": "markdown",
   "metadata": {},
   "source": [
    "## Efficiency curve: ecomix-2 gas for RE1_1 "
   ]
  },
  {
   "cell_type": "code",
   "execution_count": null,
   "metadata": {},
   "outputs": [],
   "source": [
    "ax = pec.plot_eff(path_all_eco2, file_eco2, legend_eco2, chamber, gaps, plot='ecogas', typ=None, fit=True, p0=[96.6, 0.007, 12.0])\n",
    "#ax.set_xlim(None, 12)\n",
    "#plt.savefig(plotsPNG+'efficiency_hv_eff_eco2.png')\n",
    "\n",
    "#### If the fit does not converge you can call the function with another values for the estimate:\n",
    "# p0 = [97.2, 0.004, 11.0]\n",
    "# ax = pec.plot_eff(path_all_std, file_std, legend_std, gas=gas_std, fit=True, p0=p0)"
   ]
  },
  {
   "cell_type": "markdown",
   "metadata": {},
   "source": [
    "## Efficiency curve: ecomix-3 gas for RE1_1 "
   ]
  },
  {
   "cell_type": "code",
   "execution_count": null,
   "metadata": {},
   "outputs": [],
   "source": [
    ", ' \\n'ax = pec.plot_eff(path_all_eco3, file_eco3, legend_eco3, chamber, gaps, plot='ecogas', typ=None, fit=True, p0=[96.6, 0.007, 12.0])\n",
    "#ax.set_xlim(None, 12)\n",
    "#plt.savefig(plotsPNG+'efficiency_hv_eff_eco3.png')\n",
    "\n",
    "#### If the fit does not converge you can call the function with another values for the estimate:\n",
    "# p0 = [97.2, 0.004, 11.0]\n",
    "# ax = pec.plot_eff(path_all_std, file_std, legend_std, gas=gas_std, fit=True, p0=p0)"
   ]
  },
  {
   "cell_type": "markdown",
   "metadata": {},
   "source": [
    "## Muon cluster size vs HVeff: standard gas"
   ]
  },
  {
   "cell_type": "code",
   "execution_count": null,
   "metadata": {},
   "outputs": [],
   "source": [
    "ax = pmcshe.plot_muon_cluster_size_hv_eff(path_all_std ,file_std, legend_std, chamber, gaps, plot='ecogas',)\n",
    "#plt.savefig(plotsPNG+'mcs_hv_eff_std.png')"
   ]
  },
  {
   "cell_type": "markdown",
   "metadata": {},
   "source": [
    "## Muon cluster size vs HVeff: ecomix-2"
   ]
  },
  {
   "cell_type": "code",
   "execution_count": null,
   "metadata": {},
   "outputs": [],
   "source": [
    "ax = pmcshe.plot_muon_cluster_size_hv_eff(path_all_eco2 ,file_eco2, legend_eco2, chamber, gaps, plot='ecogas',)\n",
    "ax.set_ylim(1, 9)\n",
    "#plt.savefig(plotsPNG+'mcs_hv_eff_eco2.png')"
   ]
  },
  {
   "cell_type": "markdown",
   "metadata": {
    "tags": []
   },
   "source": [
    "## Muon cluster size vs HVeff: ecomix-3"
   ]
  },
  {
   "cell_type": "code",
   "execution_count": null,
   "metadata": {},
   "outputs": [],
   "source": [
    ", erro[1],ax = pmcshe.plot_muon_cluster_size_hv_eff(path_all_eco3 ,file_eco3, legend_eco3, chamber, gaps, plot='ecogas',)\n",
    "ax.set_ylim(1, 6)\n",
    "#plt.savefig(plotsPNG+'mcs_hv_eff_eco3.png')"
   ]
  },
  {
   "cell_type": "markdown",
   "metadata": {},
   "source": [
    "## Efficiency - comparison"
   ]
  },
  {
   "cell_type": "code",
   "execution_count": null,
   "metadata": {},
   "outputs": [],
   "source": [
    "gas_list= {'std_gas': file_std, 'ecomix2': file_eco2, 'ecomix3': file_eco3}\n",
    "\n",
    "ax = pegrw.efficiency_gamma_rate_WP(path='data_wp/', gas_list=gas_list)"
   ]
  },
  {
   "cell_type": "markdown",
   "metadata": {},
   "source": [
    "## Current density versus cluster rate - comparison"
   ]
  },
  {
   "cell_type": "code",
   "execution_count": null,
   "metadata": {},
   "outputs": [],
   "source": [
    "gas_list= {'std_gas': file_std, 'ecomix2': file_eco2, 'ecomix3': file_eco3}\n",
    "\n",
    "pcdcrw.current_density_cluster_rate_WP(path='data_wp/', gas_list=gas_list)"
   ]
  },
  {
   "cell_type": "markdown",
   "metadata": {
    "tags": []
   },
   "source": [
    "## Working point versus gamma rate - comparison"
   ]
  },
  {
   "cell_type": "code",
   "execution_count": null,
   "metadata": {},
   "outputs": [],
   "source": [
    "gas_list= {'std_gas': file_std, 'ecomix2': file_eco2, 'ecomix3': file_eco3}\n",
    "\n",
    "ax = pwpgr.working_point_gamma_rate_WP(path='data_wp/', gas_list=gas_list, fit=True)\n",
    "ax.set_ylim(9.6, 12)"
   ]
  }
 ],
 "metadata": {
  "kernelspec": {
   "display_name": "Python 3 (ipykernel)",
   "language": "python",
   "name": "python3"
  },
  "language_info": {
   "codemirror_mode": {
    "name": "ipython",
    "version": 3
   },
   "file_extension": ".py",
   "mimetype": "text/x-python",
   "name": "python",
   "nbconvert_exporter": "python",
   "pygments_lexer": "ipython3",
   "version": "3.9.15"
  }
 },
 "nbformat": 4,
 "nbformat_minor": 4
}
